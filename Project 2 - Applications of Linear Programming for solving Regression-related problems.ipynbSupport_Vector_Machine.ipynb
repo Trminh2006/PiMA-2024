{
  "nbformat": 4,
  "nbformat_minor": 0,
  "metadata": {
    "colab": {
      "provenance": []
    },
    "kernelspec": {
      "name": "python3",
      "display_name": "Python 3"
    },
    "language_info": {
      "name": "python"
    }
  },
  "cells": [
    {
      "cell_type": "markdown",
      "source": [
        "# README"
      ],
      "metadata": {
        "id": "Si0fE1nNkSqE"
      }
    },
    {
      "cell_type": "markdown",
      "source": [
        "This project was created by Thu Nguyen, Tien Nguyen, Hop Le, and Minh Tran under the supervision of 2 mentors Canh Nguyen and Toan Vong in the summer camp PiMA (Projects in Mathematics and Applications) 2024. We devloped this machine learning model using Support Vector Machine algorithm as a supplement to our final academic report on our study of Linear Programming for Data Science. The final report was written in Vietnamese and can be found [here](https://drive.google.com/file/d/1mrxSXi9C2SUUFXM75vKSBqX9LuWi9C7y/view?usp=sharing)."
      ],
      "metadata": {
        "id": "CB7_Co7zkb1L"
      }
    },
    {
      "cell_type": "markdown",
      "source": [
        "We used the Support Vector Machine algorithm to train a machine learning model to classify between the handwritten characters 0 and 1 in the MNIST dataset. However, we did not use the pre-built SVM module. We developed the SVM algorithm from an original Linear Programming problem instead to show and understand more deeply the beauty of mathematics and the great applications of Linear Programming."
      ],
      "metadata": {
        "id": "WHKPSSBhpg4q"
      }
    },
    {
      "cell_type": "markdown",
      "source": [
        "# Preprocessing Data"
      ],
      "metadata": {
        "id": "uJp5oDVLRd8g"
      }
    },
    {
      "cell_type": "markdown",
      "source": [
        "Importing MNIST dataset"
      ],
      "metadata": {
        "id": "Gbs-aKCGFpqG"
      }
    },
    {
      "cell_type": "code",
      "execution_count": null,
      "metadata": {
        "id": "iaqPBFDkRIq6",
        "colab": {
          "base_uri": "https://localhost:8080/"
        },
        "outputId": "6ba5a3cd-89ee-42b3-d729-63a8fffe3b82"
      },
      "outputs": [
        {
          "output_type": "stream",
          "name": "stdout",
          "text": [
            "Downloading data from https://storage.googleapis.com/tensorflow/tf-keras-datasets/mnist.npz\n",
            "\u001b[1m11490434/11490434\u001b[0m \u001b[32m━━━━━━━━━━━━━━━━━━━━\u001b[0m\u001b[37m\u001b[0m \u001b[1m0s\u001b[0m 0us/step\n"
          ]
        }
      ],
      "source": [
        "from keras.datasets import mnist\n",
        "(data_train, label_train), (data_test, label_test) = mnist.load_data()"
      ]
    },
    {
      "cell_type": "markdown",
      "source": [
        "Importing libraries"
      ],
      "metadata": {
        "id": "2qidu0rWRz0V"
      }
    },
    {
      "cell_type": "code",
      "source": [
        "import numpy as np\n",
        "import pandas as pd\n",
        "import scipy as sp"
      ],
      "metadata": {
        "id": "W_Ao9HKzR2W3"
      },
      "execution_count": null,
      "outputs": []
    },
    {
      "cell_type": "markdown",
      "source": [
        "Filter dataset with label of \"0\" and \"1\" from mnist"
      ],
      "metadata": {
        "id": "wD-yTDA5SeJY"
      }
    },
    {
      "cell_type": "code",
      "source": [
        "filter_mask_train = np.isin(label_train, [0, 1]) # filter out other numbers and keep only 0s & 1s\n",
        "filtered_data_train = data_train[filter_mask_train]\n",
        "filtered_label_train = label_train[filter_mask_train]\n",
        "filtered_label_train = filtered_label_train.astype(int) # change the datatype of label_train from unit8 to int so it will convert to -1 not 255\n",
        "for i in range(filtered_label_train.shape[0]): # replace value: 1 -> 1, 0 -> -1 so it will align with the SVM algorithm\n",
        "  if filtered_label_train[i] == 0:\n",
        "    filtered_label_train[i] = -1\n",
        "\n",
        "# do the same things with data_test\n",
        "filter_mask_test = np.isin(label_test, [0,1])\n",
        "filtered_data_test = data_test[filter_mask_test]\n",
        "filtered_label_test = label_test[filter_mask_test]\n",
        "filtered_label_test = filtered_label_test.astype(int)\n",
        "for i in range(filtered_label_test.shape[0]):\n",
        "  if filtered_label_test[i] == 0:\n",
        "    filtered_label_test[i] = -1\n",
        "print(filtered_label_train)"
      ],
      "metadata": {
        "collapsed": true,
        "id": "WKigVbXWSoSk",
        "colab": {
          "base_uri": "https://localhost:8080/"
        },
        "outputId": "15e243a0-f746-4478-e545-15667553b982"
      },
      "execution_count": null,
      "outputs": [
        {
          "output_type": "stream",
          "name": "stdout",
          "text": [
            "[-1  1  1 ...  1 -1  1]\n"
          ]
        }
      ]
    },
    {
      "cell_type": "markdown",
      "source": [
        "Show data (some handwritten character images) using Matplotlib\n",
        "\n"
      ],
      "metadata": {
        "id": "eKaXdYW-EjH-"
      }
    },
    {
      "cell_type": "code",
      "source": [
        "from matplotlib import pyplot\n",
        "\n",
        "for i in range(5):\n",
        "  pyplot.subplot(5,1,i+1)\n",
        "  pyplot.imshow(filtered_data_train[i], cmap=pyplot.get_cmap('gray'))\n",
        "  pyplot.show()"
      ],
      "metadata": {
        "collapsed": true,
        "id": "uURBWr1wUnfg",
        "colab": {
          "base_uri": "https://localhost:8080/",
          "height": 572
        },
        "outputId": "ff38defa-0b92-4a32-f9ca-eb76d7604851"
      },
      "execution_count": null,
      "outputs": [
        {
          "output_type": "display_data",
          "data": {
            "text/plain": [
              "<Figure size 640x480 with 1 Axes>"
            ],
            "image/png": "[encoded data removed]"
          },
          "metadata": {}
        },
        {
          "output_type": "display_data",
          "data": {
            "text/plain": [
              "<Figure size 640x480 with 1 Axes>"
            ],
            "image/png": "[encoded data removed]"
          },
          "metadata": {}
        },
        {
          "output_type": "display_data",
          "data": {
            "text/plain": [
              "<Figure size 640x480 with 1 Axes>"
            ],
            "image/png": "[encoded data removed]"
          },
          "metadata": {}
        },
        {
          "output_type": "display_data",
          "data": {
            "text/plain": [
              "<Figure size 640x480 with 1 Axes>"
            ],
            "image/png": "[encoded data removed]"
          },
          "metadata": {}
        },
        {
          "output_type": "display_data",
          "data": {
            "text/plain": [
              "<Figure size 640x480 with 1 Axes>"
            ],
            "image/png": "[encoded data removed]"
          },
          "metadata": {}
        }
      ]
    },
    {
      "cell_type": "markdown",
      "source": [
        "# Support Vector Machine Algorithm using L-1 norm Linear Programming:\n",
        "\n",
        "Find $w_j,t_j,w_0$ so that:\n",
        "\n",
        "Minimize $t_1 + t_2 + ... + t_d$ \\\\\n",
        "Subject to:\n",
        "*   $-t_j \\le w_j \\le t_j$  $(j = 1,2,...d)$\n",
        "*   $y_i(w^Tx_i+w_0) \\ge 1$  $(i = 1,2,...n)$\n",
        "\n",
        "---\n",
        "\n",
        "Orginal linear programming problem: \\\\\n",
        "Minimize $c^Tx$\n",
        "Subject to:\n",
        "*   $A_1x \\le b_1$ (inequal constraint)\n",
        "*   $A_2x = b_2$ (equal constraint)\n",
        "*   $a \\le x \\le b$ (bounds)\n",
        "\n",
        "\n",
        "---\n",
        "\n",
        "`linprog` will take in parameters: `linprog(cT,A_1,b_1,A_2,b_2,bounds)`"
      ],
      "metadata": {
        "id": "DDin880wI_c4"
      }
    },
    {
      "cell_type": "code",
      "source": [
        "from scipy.optimize import linprog\n",
        "d = 28*28 # number of pixel in an image\n",
        "n = filtered_data_train.shape[0] # number of image in the dataset"
      ],
      "metadata": {
        "id": "aonfKZekgwpJ"
      },
      "execution_count": null,
      "outputs": []
    },
    {
      "cell_type": "markdown",
      "source": [
        "Our variable $x$ is a vector containing:\n",
        "*   $t_j = [t_1,t_2,...,t_d]$\n",
        "*   $w_j = [w_1,w_2,...,w_d]$\n",
        "*   $w_0 = constant$\n",
        "\n",
        "Our objective equation can be rewritten as:\n",
        "\n",
        "Minimize $t_1+t_2+...+td ↔$ Minimize $t_1+t_2+...+t_d+0w_1+0w_2+...+0w_d+0w_0$\n",
        "\n",
        "$→ c^T = [1,1,...,1,0,0,...,0,0]$\n",
        "\n",
        "There are: $d$ number 1's and $d+1$ number 0's\n",
        "\n",
        "\n",
        "\n",
        "\n",
        "\n",
        "\n",
        "\n"
      ],
      "metadata": {
        "id": "zOu1RDZnFlQf"
      }
    },
    {
      "cell_type": "code",
      "source": [
        "c = np.concatenate((np.ones(d), np.zeros(d+1)))\n",
        "c"
      ],
      "metadata": {
        "colab": {
          "base_uri": "https://localhost:8080/"
        },
        "id": "LLMyteVHg2qy",
        "outputId": "3f45fab4-4566-439e-99d6-f116b4baa91c"
      },
      "execution_count": null,
      "outputs": [
        {
          "output_type": "execute_result",
          "data": {
            "text/plain": [
              "array([1., 1., 1., ..., 0., 0., 0.])"
            ]
          },
          "metadata": {},
          "execution_count": 6
        }
      ]
    },
    {
      "cell_type": "markdown",
      "source": [
        "Our constraints are:\n",
        "*   $-t_j \\le w_j \\le t_j$  $(j = 1,2,...d)$\n",
        "*   $y_i(w^Tx_i+w_0) \\ge 1$  $(i = 1,2,...n)$\n",
        "\n",
        "Which can be rewritten as:\n",
        "*   $-t_j - w_j \\le 0$  $(j=1,2,...d)$\n",
        "*   $-t_j + w_j \\le 0$  $(j=1,2,...d)$\n",
        "*   $-x_{i,1}y_iw_1-x_{i,2}y_iw_2-...-x_{i,d}y_iw_d-y_iw_0 \\le -1$\n",
        "\n",
        "Note:\n",
        "*   $x_{i,d} \\in [0,255]$ (because $x$ represents the pixels)\n",
        "*   $y_i \\in \\{1,-1\\}$ (because $y$ represents the labels used to differentiate the number 0 and the number 1)\n",
        "\n",
        "\n",
        "\n",
        "\n",
        "\n"
      ],
      "metadata": {
        "id": "JJMkTtvuIfGv"
      }
    },
    {
      "cell_type": "markdown",
      "source": [
        "We divide the vector $A$ into 3 parts: $A_1,A_2,A_3$ corresponding to the 3 constraints\n",
        "\n"
      ],
      "metadata": {
        "id": "hJwACIW-LqLE"
      }
    },
    {
      "cell_type": "markdown",
      "source": [
        "$A_1$ corresponding to the left-hand side of the equation: $-t_j - w_j \\le 0$  $(j=1,2,...d)$"
      ],
      "metadata": {
        "id": "vlU_b6dkMvdT"
      }
    },
    {
      "cell_type": "code",
      "source": [
        "A1 = np.concatenate((-np.identity(d), -np.identity(d), np.zeros((d, 1))), axis=1)\n",
        "print(A1.shape)\n",
        "print(A1)"
      ],
      "metadata": {
        "colab": {
          "base_uri": "https://localhost:8080/"
        },
        "id": "Mbrg2LH2iW_b",
        "outputId": "32f4399e-805d-4e19-ea02-7e51d156fbc6"
      },
      "execution_count": null,
      "outputs": [
        {
          "output_type": "stream",
          "name": "stdout",
          "text": [
            "(784, 1569)\n",
            "[[-1. -0. -0. ... -0. -0.  0.]\n",
            " [-0. -1. -0. ... -0. -0.  0.]\n",
            " [-0. -0. -1. ... -0. -0.  0.]\n",
            " ...\n",
            " [-0. -0. -0. ... -0. -0.  0.]\n",
            " [-0. -0. -0. ... -1. -0.  0.]\n",
            " [-0. -0. -0. ... -0. -1.  0.]]\n"
          ]
        }
      ]
    },
    {
      "cell_type": "markdown",
      "source": [
        "$A_2$ corresponding to the left-hand side of the equation: $-t_j + w_j \\le 0$  $(j=1,2,...d)$"
      ],
      "metadata": {
        "id": "X4n1goeDNAU0"
      }
    },
    {
      "cell_type": "code",
      "source": [
        "A2 = np.concatenate((-np.identity(d),np.identity(d),np.zeros((d, 1))),axis=1)\n",
        "print(A2.shape)\n",
        "print(A2)"
      ],
      "metadata": {
        "colab": {
          "base_uri": "https://localhost:8080/"
        },
        "id": "1xbVDL5irnXy",
        "outputId": "ba68048d-f856-4bca-ba60-26970a048656"
      },
      "execution_count": null,
      "outputs": [
        {
          "output_type": "stream",
          "name": "stdout",
          "text": [
            "(784, 1569)\n",
            "[[-1. -0. -0. ...  0.  0.  0.]\n",
            " [-0. -1. -0. ...  0.  0.  0.]\n",
            " [-0. -0. -1. ...  0.  0.  0.]\n",
            " ...\n",
            " [-0. -0. -0. ...  0.  0.  0.]\n",
            " [-0. -0. -0. ...  1.  0.  0.]\n",
            " [-0. -0. -0. ...  0.  1.  0.]]\n"
          ]
        }
      ]
    },
    {
      "cell_type": "markdown",
      "source": [
        "$A_3$ corresponding to the left-hand side of the equation: $-x_{i,1}y_iw_1-x_{i,2}y_iw_2-...-x_{i,d}y_iw_d-y_iw_0 \\le -1$"
      ],
      "metadata": {
        "id": "qrqhyveNNoAA"
      }
    },
    {
      "cell_type": "code",
      "source": [
        "A3 = np.concatenate((\n",
        "    np.zeros((n, d)),\n",
        "    -filtered_label_train.reshape((-1, 1)) * filtered_data_train.reshape((-1, d)), #-y * x\n",
        "    -filtered_label_train.reshape((-1, 1))\n",
        "), axis=1)\n",
        "print(A3.shape)\n",
        "print(A3)"
      ],
      "metadata": {
        "colab": {
          "base_uri": "https://localhost:8080/"
        },
        "id": "-kfi99zJsJNX",
        "outputId": "6c38e126-770b-4387-e3e1-87e18b119a68"
      },
      "execution_count": null,
      "outputs": [
        {
          "output_type": "stream",
          "name": "stdout",
          "text": [
            "(12665, 1569)\n",
            "[[ 0.  0.  0. ...  0.  0.  1.]\n",
            " [ 0.  0.  0. ...  0.  0. -1.]\n",
            " [ 0.  0.  0. ...  0.  0. -1.]\n",
            " ...\n",
            " [ 0.  0.  0. ...  0.  0. -1.]\n",
            " [ 0.  0.  0. ...  0.  0.  1.]\n",
            " [ 0.  0.  0. ...  0.  0. -1.]]\n"
          ]
        }
      ]
    },
    {
      "cell_type": "markdown",
      "source": [
        "Vector $A$ is the result of the concatenation of $A_1,A_2,A_3$"
      ],
      "metadata": {
        "id": "yOiE65lyOMgZ"
      }
    },
    {
      "cell_type": "code",
      "source": [
        "A = np.concatenate((A1, A2, A3), axis=0)\n",
        "print(A.shape)\n",
        "print(A)"
      ],
      "metadata": {
        "colab": {
          "base_uri": "https://localhost:8080/"
        },
        "id": "9SSe9yC-uBv5",
        "outputId": "cf706706-c470-4f76-df02-4eacf8077e8a"
      },
      "execution_count": null,
      "outputs": [
        {
          "output_type": "stream",
          "name": "stdout",
          "text": [
            "(14233, 1569)\n",
            "[[-1. -0. -0. ... -0. -0.  0.]\n",
            " [-0. -1. -0. ... -0. -0.  0.]\n",
            " [-0. -0. -1. ... -0. -0.  0.]\n",
            " ...\n",
            " [ 0.  0.  0. ...  0.  0. -1.]\n",
            " [ 0.  0.  0. ...  0.  0.  1.]\n",
            " [ 0.  0.  0. ...  0.  0. -1.]]\n"
          ]
        }
      ]
    },
    {
      "cell_type": "markdown",
      "source": [
        "Vector $b$ is the right-hand side of the constraints: $0,0,-1$\n",
        "\n",
        "$→$ vector $b$ is a $1$x$(2d+n)$ vector consisting of:\n",
        "\n",
        "*  Two $1$x$d$ vectors $0's$\n",
        "*  One $1$x$n$ vector $-1's$\n",
        "\n"
      ],
      "metadata": {
        "id": "UKnXeHJpOelm"
      }
    },
    {
      "cell_type": "code",
      "source": [
        "b = np.concatenate((\n",
        "    np.zeros((2*d,1)),\n",
        "    -np.ones((n,1))\n",
        "), axis=0)\n",
        "print(b)"
      ],
      "metadata": {
        "colab": {
          "base_uri": "https://localhost:8080/"
        },
        "id": "fbLW1oX-JNNk",
        "outputId": "2f24f672-fe1a-4118-c140-7240f28a46bc"
      },
      "execution_count": null,
      "outputs": [
        {
          "output_type": "stream",
          "name": "stdout",
          "text": [
            "[[ 0.]\n",
            " [ 0.]\n",
            " [ 0.]\n",
            " ...\n",
            " [-1.]\n",
            " [-1.]\n",
            " [-1.]]\n"
          ]
        }
      ]
    },
    {
      "cell_type": "markdown",
      "source": [
        "Define our bounds (None):"
      ],
      "metadata": {
        "id": "1tBZjTaUPyDH"
      }
    },
    {
      "cell_type": "code",
      "source": [
        "# There is no bounds in our problem\n",
        "bounds = [\n",
        "    (None, None)\n",
        "    for i in range(len(c))\n",
        "]"
      ],
      "metadata": {
        "id": "TkDUzXvjL1lw"
      },
      "execution_count": null,
      "outputs": []
    },
    {
      "cell_type": "markdown",
      "source": [
        "Print our the result using `linprog` method from `scipy.optimize`"
      ],
      "metadata": {
        "id": "UTxQR7-IP23_"
      }
    },
    {
      "cell_type": "code",
      "source": [
        "result = linprog(\n",
        "    c=c,\n",
        "    A_ub=A,\n",
        "    b_ub=b,\n",
        "    A_eq=None, # There is no equal constraint in our problem\n",
        "    b_eq=None,\n",
        "    bounds=bounds\n",
        ")\n",
        "print(f\"Result = {result}\")"
      ],
      "metadata": {
        "colab": {
          "base_uri": "https://localhost:8080/"
        },
        "id": "vT1rtGkDxKFn",
        "outputId": "ce88976f-2836-4ac3-d590-2fa29f0b78b9"
      },
      "execution_count": null,
      "outputs": [
        {
          "output_type": "stream",
          "name": "stdout",
          "text": [
            "Result =         message: Optimization terminated successfully. (HiGHS Status 7: Optimal)\n",
            "        success: True\n",
            "         status: 0\n",
            "            fun: 0.10681209043802584\n",
            "              x: [-0.000e+00 -0.000e+00 ... -0.000e+00  1.290e+00]\n",
            "            nit: 11444\n",
            "          lower:  residual: [       inf        inf ...        inf\n",
            "                                    inf]\n",
            "                 marginals: [ 0.000e+00  0.000e+00 ...  0.000e+00\n",
            "                              0.000e+00]\n",
            "          upper:  residual: [       inf        inf ...        inf\n",
            "                                    inf]\n",
            "                 marginals: [ 0.000e+00  0.000e+00 ...  0.000e+00\n",
            "                              0.000e+00]\n",
            "          eqlin:  residual: []\n",
            "                 marginals: []\n",
            "        ineqlin:  residual: [ 0.000e+00  0.000e+00 ...  3.293e+00\n",
            "                              3.452e+00]\n",
            "                 marginals: [-5.000e-01 -5.000e-01 ... -0.000e+00\n",
            "                             -0.000e+00]\n",
            " mip_node_count: 0\n",
            " mip_dual_bound: 0.0\n",
            "        mip_gap: 0.0\n"
          ]
        }
      ]
    },
    {
      "cell_type": "markdown",
      "source": [
        "Our result consists of:\n",
        "*   From $0$ to $d-1$: $$t_j\n",
        "*   From $d$ to $2d-1$: $w_j$\n",
        "*   At $2d$: $w_0$"
      ],
      "metadata": {
        "id": "2BEEZF1gQvDL"
      }
    },
    {
      "cell_type": "code",
      "source": [
        "answer = result.x # save the result into answer variable\n",
        "# answer_t  = answer[0:d] # t is not used in finding our desired line (y = w * x + w0)\n",
        "answer_w  = answer[d:2*d]\n",
        "answer_w0 = answer[2*d]\n",
        "print(f\"wj={answer_w}\")\n",
        "print(f\"w0={answer_w0}\")\n",
        "#for i in range(d):\n",
        " # print(answer_w[i])\n",
        "#print(answer_w0)"
      ],
      "metadata": {
        "colab": {
          "base_uri": "https://localhost:8080/"
        },
        "id": "lzwhB8vTxuoH",
        "outputId": "8b28749d-fad5-4878-c5af-07edc4883b50"
      },
      "execution_count": null,
      "outputs": [
        {
          "output_type": "stream",
          "name": "stdout",
          "text": [
            "wj=[-0.00000000e+00 -0.00000000e+00 -0.00000000e+00 -0.00000000e+00\n",
            " -0.00000000e+00 -0.00000000e+00 -0.00000000e+00 -0.00000000e+00\n",
            " -0.00000000e+00 -0.00000000e+00 -0.00000000e+00 -0.00000000e+00\n",
            " -0.00000000e+00 -0.00000000e+00 -0.00000000e+00 -0.00000000e+00\n",
            " -0.00000000e+00 -0.00000000e+00 -0.00000000e+00 -0.00000000e+00\n",
            " -0.00000000e+00 -0.00000000e+00 -0.00000000e+00 -0.00000000e+00\n",
            " -0.00000000e+00 -0.00000000e+00 -0.00000000e+00 -0.00000000e+00\n",
            " -0.00000000e+00 -0.00000000e+00 -0.00000000e+00 -0.00000000e+00\n",
            " -0.00000000e+00 -0.00000000e+00 -0.00000000e+00 -0.00000000e+00\n",
            " -0.00000000e+00 -0.00000000e+00 -0.00000000e+00 -0.00000000e+00\n",
            " -0.00000000e+00 -0.00000000e+00 -0.00000000e+00 -0.00000000e+00\n",
            " -0.00000000e+00 -0.00000000e+00 -0.00000000e+00 -0.00000000e+00\n",
            " -0.00000000e+00 -0.00000000e+00 -0.00000000e+00 -0.00000000e+00\n",
            " -0.00000000e+00 -0.00000000e+00 -0.00000000e+00 -0.00000000e+00\n",
            " -0.00000000e+00 -0.00000000e+00 -0.00000000e+00 -0.00000000e+00\n",
            " -0.00000000e+00 -0.00000000e+00 -0.00000000e+00 -0.00000000e+00\n",
            " -0.00000000e+00 -0.00000000e+00 -0.00000000e+00 -0.00000000e+00\n",
            " -0.00000000e+00 -0.00000000e+00 -0.00000000e+00 -0.00000000e+00\n",
            " -0.00000000e+00 -0.00000000e+00 -0.00000000e+00 -0.00000000e+00\n",
            " -0.00000000e+00 -0.00000000e+00 -0.00000000e+00 -0.00000000e+00\n",
            " -0.00000000e+00 -0.00000000e+00 -0.00000000e+00 -0.00000000e+00\n",
            " -0.00000000e+00 -0.00000000e+00 -0.00000000e+00 -0.00000000e+00\n",
            " -0.00000000e+00 -0.00000000e+00 -0.00000000e+00 -0.00000000e+00\n",
            " -0.00000000e+00 -0.00000000e+00 -0.00000000e+00 -0.00000000e+00\n",
            " -0.00000000e+00 -0.00000000e+00 -0.00000000e+00 -0.00000000e+00\n",
            " -0.00000000e+00  3.48931531e-04 -0.00000000e+00 -0.00000000e+00\n",
            " -0.00000000e+00 -0.00000000e+00 -0.00000000e+00 -0.00000000e+00\n",
            " -0.00000000e+00 -0.00000000e+00 -0.00000000e+00 -0.00000000e+00\n",
            " -0.00000000e+00 -0.00000000e+00 -0.00000000e+00 -0.00000000e+00\n",
            " -0.00000000e+00 -0.00000000e+00 -0.00000000e+00 -0.00000000e+00\n",
            " -0.00000000e+00 -0.00000000e+00 -0.00000000e+00 -0.00000000e+00\n",
            " -0.00000000e+00 -0.00000000e+00 -0.00000000e+00 -0.00000000e+00\n",
            " -0.00000000e+00 -0.00000000e+00 -0.00000000e+00 -0.00000000e+00\n",
            " -0.00000000e+00 -0.00000000e+00 -0.00000000e+00 -0.00000000e+00\n",
            " -0.00000000e+00 -0.00000000e+00 -0.00000000e+00 -0.00000000e+00\n",
            " -0.00000000e+00 -0.00000000e+00 -0.00000000e+00 -0.00000000e+00\n",
            " -0.00000000e+00 -0.00000000e+00 -0.00000000e+00 -0.00000000e+00\n",
            " -0.00000000e+00 -0.00000000e+00 -0.00000000e+00 -0.00000000e+00\n",
            " -0.00000000e+00  1.82389244e-03 -1.81162617e-03 -0.00000000e+00\n",
            " -0.00000000e+00 -0.00000000e+00 -0.00000000e+00 -0.00000000e+00\n",
            "  2.06337691e-04 -0.00000000e+00  3.07356581e-03 -0.00000000e+00\n",
            " -0.00000000e+00 -0.00000000e+00 -0.00000000e+00 -0.00000000e+00\n",
            " -0.00000000e+00 -0.00000000e+00 -0.00000000e+00 -0.00000000e+00\n",
            " -0.00000000e+00 -0.00000000e+00 -0.00000000e+00 -0.00000000e+00\n",
            " -0.00000000e+00 -0.00000000e+00 -0.00000000e+00 -0.00000000e+00\n",
            " -0.00000000e+00 -0.00000000e+00 -0.00000000e+00 -1.83908935e-04\n",
            " -9.02244798e-04 -0.00000000e+00 -0.00000000e+00 -0.00000000e+00\n",
            "  1.00858727e-03 -0.00000000e+00 -0.00000000e+00 -0.00000000e+00\n",
            " -0.00000000e+00 -0.00000000e+00 -0.00000000e+00 -0.00000000e+00\n",
            " -0.00000000e+00 -0.00000000e+00 -0.00000000e+00 -0.00000000e+00\n",
            " -0.00000000e+00 -0.00000000e+00 -0.00000000e+00 -0.00000000e+00\n",
            " -0.00000000e+00 -0.00000000e+00 -5.34259249e-04 -1.96125284e-03\n",
            " -0.00000000e+00 -0.00000000e+00 -0.00000000e+00 -1.24143425e-04\n",
            " -0.00000000e+00 -8.08074988e-04 -0.00000000e+00 -0.00000000e+00\n",
            " -0.00000000e+00 -0.00000000e+00 -4.50312542e-04 -0.00000000e+00\n",
            " -0.00000000e+00 -0.00000000e+00 -0.00000000e+00 -0.00000000e+00\n",
            " -0.00000000e+00 -0.00000000e+00 -0.00000000e+00 -0.00000000e+00\n",
            " -0.00000000e+00 -0.00000000e+00 -0.00000000e+00 -0.00000000e+00\n",
            " -0.00000000e+00 -0.00000000e+00 -0.00000000e+00 -0.00000000e+00\n",
            " -0.00000000e+00 -0.00000000e+00 -0.00000000e+00 -0.00000000e+00\n",
            " -1.24533485e-03 -1.02061618e-03 -0.00000000e+00 -0.00000000e+00\n",
            " -0.00000000e+00 -0.00000000e+00 -5.75331002e-04 -0.00000000e+00\n",
            " -0.00000000e+00 -0.00000000e+00 -0.00000000e+00 -0.00000000e+00\n",
            " -0.00000000e+00 -0.00000000e+00 -0.00000000e+00 -0.00000000e+00\n",
            " -0.00000000e+00 -0.00000000e+00 -0.00000000e+00 -0.00000000e+00\n",
            " -0.00000000e+00 -0.00000000e+00 -0.00000000e+00 -0.00000000e+00\n",
            " -0.00000000e+00 -0.00000000e+00  1.12490518e-03 -0.00000000e+00\n",
            " -0.00000000e+00 -0.00000000e+00 -0.00000000e+00 -0.00000000e+00\n",
            " -0.00000000e+00 -3.43306634e-03 -3.25856008e-04 -0.00000000e+00\n",
            " -0.00000000e+00 -0.00000000e+00 -0.00000000e+00 -0.00000000e+00\n",
            " -0.00000000e+00 -0.00000000e+00 -0.00000000e+00 -0.00000000e+00\n",
            " -0.00000000e+00 -0.00000000e+00 -0.00000000e+00 -0.00000000e+00\n",
            " -0.00000000e+00 -0.00000000e+00 -0.00000000e+00 -0.00000000e+00\n",
            " -0.00000000e+00 -0.00000000e+00 -0.00000000e+00 -0.00000000e+00\n",
            " -0.00000000e+00 -3.88531650e-04 -0.00000000e+00 -0.00000000e+00\n",
            " -6.42042318e-04 -0.00000000e+00 -0.00000000e+00 -0.00000000e+00\n",
            " -0.00000000e+00 -0.00000000e+00 -0.00000000e+00 -0.00000000e+00\n",
            " -0.00000000e+00 -0.00000000e+00 -0.00000000e+00 -0.00000000e+00\n",
            " -0.00000000e+00 -0.00000000e+00 -0.00000000e+00 -0.00000000e+00\n",
            " -0.00000000e+00 -0.00000000e+00 -0.00000000e+00 -9.10269294e-05\n",
            " -0.00000000e+00 -0.00000000e+00 -0.00000000e+00 -0.00000000e+00\n",
            "  2.36252131e-03 -0.00000000e+00 -0.00000000e+00 -0.00000000e+00\n",
            " -5.33199641e-04 -1.42475533e-03 -0.00000000e+00 -0.00000000e+00\n",
            " -0.00000000e+00 -0.00000000e+00 -0.00000000e+00 -0.00000000e+00\n",
            " -0.00000000e+00 -0.00000000e+00 -0.00000000e+00 -0.00000000e+00\n",
            " -0.00000000e+00 -0.00000000e+00 -0.00000000e+00 -0.00000000e+00\n",
            " -0.00000000e+00 -0.00000000e+00 -0.00000000e+00 -0.00000000e+00\n",
            " -2.27260659e-04 -0.00000000e+00 -0.00000000e+00 -0.00000000e+00\n",
            " -0.00000000e+00 -0.00000000e+00 -0.00000000e+00 -2.41471706e-04\n",
            " -0.00000000e+00 -1.05429779e-04 -0.00000000e+00 -0.00000000e+00\n",
            " -0.00000000e+00 -0.00000000e+00 -0.00000000e+00 -0.00000000e+00\n",
            " -0.00000000e+00 -0.00000000e+00 -0.00000000e+00 -0.00000000e+00\n",
            " -0.00000000e+00 -0.00000000e+00 -0.00000000e+00 -0.00000000e+00\n",
            " -8.17468045e-04 -0.00000000e+00 -2.31930053e-04 -0.00000000e+00\n",
            " -0.00000000e+00  2.87405489e-03  9.70025791e-05 -0.00000000e+00\n",
            " -0.00000000e+00 -0.00000000e+00 -0.00000000e+00 -0.00000000e+00\n",
            " -0.00000000e+00 -0.00000000e+00 -1.33525375e-03 -0.00000000e+00\n",
            " -0.00000000e+00 -0.00000000e+00 -0.00000000e+00 -0.00000000e+00\n",
            " -0.00000000e+00 -0.00000000e+00 -0.00000000e+00 -0.00000000e+00\n",
            " -0.00000000e+00 -0.00000000e+00 -6.56633116e-04 -1.43383501e-03\n",
            " -3.65735794e-04 -0.00000000e+00 -0.00000000e+00 -0.00000000e+00\n",
            " -0.00000000e+00  5.94391106e-04  1.63647548e-03  1.39607131e-03\n",
            "  7.14417630e-04 -0.00000000e+00 -5.65597343e-03 -0.00000000e+00\n",
            " -0.00000000e+00 -1.81700366e-03 -1.70370758e-03 -0.00000000e+00\n",
            " -0.00000000e+00 -0.00000000e+00 -0.00000000e+00 -0.00000000e+00\n",
            " -0.00000000e+00 -0.00000000e+00 -0.00000000e+00 -0.00000000e+00\n",
            " -0.00000000e+00 -0.00000000e+00 -0.00000000e+00 -0.00000000e+00\n",
            " -0.00000000e+00 -0.00000000e+00 -9.67068133e-04 -0.00000000e+00\n",
            " -0.00000000e+00  2.14469064e-03  5.26381351e-03 -0.00000000e+00\n",
            " -0.00000000e+00 -0.00000000e+00 -0.00000000e+00 -0.00000000e+00\n",
            " -0.00000000e+00 -0.00000000e+00 -0.00000000e+00 -2.79121097e-03\n",
            " -0.00000000e+00 -0.00000000e+00 -0.00000000e+00 -0.00000000e+00\n",
            " -0.00000000e+00 -0.00000000e+00 -0.00000000e+00 -0.00000000e+00\n",
            " -0.00000000e+00 -3.99041534e-03 -0.00000000e+00 -4.11114696e-03\n",
            " -0.00000000e+00 -1.15290238e-03 -7.85479703e-04 -0.00000000e+00\n",
            " -0.00000000e+00  2.21946691e-04 -0.00000000e+00 -0.00000000e+00\n",
            " -0.00000000e+00 -3.00134263e-03 -0.00000000e+00 -0.00000000e+00\n",
            " -3.01103244e-03 -0.00000000e+00 -0.00000000e+00 -0.00000000e+00\n",
            " -0.00000000e+00 -0.00000000e+00 -0.00000000e+00 -0.00000000e+00\n",
            " -0.00000000e+00 -0.00000000e+00 -0.00000000e+00 -0.00000000e+00\n",
            " -0.00000000e+00 -6.93515653e-04 -0.00000000e+00 -0.00000000e+00\n",
            " -1.73305176e-04 -2.08675991e-03 -1.80602614e-03 -0.00000000e+00\n",
            " -0.00000000e+00 -0.00000000e+00 -0.00000000e+00 -0.00000000e+00\n",
            " -0.00000000e+00 -0.00000000e+00 -1.04595627e-03 -0.00000000e+00\n",
            " -0.00000000e+00 -0.00000000e+00 -0.00000000e+00 -0.00000000e+00\n",
            " -0.00000000e+00 -0.00000000e+00 -0.00000000e+00 -0.00000000e+00\n",
            " -0.00000000e+00 -0.00000000e+00 -0.00000000e+00 -0.00000000e+00\n",
            " -0.00000000e+00 -6.24324785e-04 -0.00000000e+00 -0.00000000e+00\n",
            " -4.46980747e-05 -0.00000000e+00 -0.00000000e+00 -0.00000000e+00\n",
            " -0.00000000e+00 -0.00000000e+00 -0.00000000e+00  1.72054338e-04\n",
            "  2.44359198e-04 -1.14069730e-03 -0.00000000e+00 -1.19251378e-04\n",
            " -0.00000000e+00 -0.00000000e+00 -0.00000000e+00 -0.00000000e+00\n",
            " -0.00000000e+00 -0.00000000e+00 -0.00000000e+00 -0.00000000e+00\n",
            " -0.00000000e+00 -0.00000000e+00 -0.00000000e+00 -0.00000000e+00\n",
            " -0.00000000e+00 -0.00000000e+00 -0.00000000e+00 -1.05283199e-04\n",
            " -4.35267800e-04 -0.00000000e+00 -0.00000000e+00 -0.00000000e+00\n",
            " -0.00000000e+00 -0.00000000e+00 -0.00000000e+00 -0.00000000e+00\n",
            " -0.00000000e+00 -0.00000000e+00 -0.00000000e+00 -0.00000000e+00\n",
            " -0.00000000e+00 -0.00000000e+00 -0.00000000e+00 -0.00000000e+00\n",
            "  3.18426319e-03 -0.00000000e+00 -0.00000000e+00 -0.00000000e+00\n",
            " -0.00000000e+00 -0.00000000e+00 -0.00000000e+00 -0.00000000e+00\n",
            " -0.00000000e+00 -0.00000000e+00 -0.00000000e+00 -0.00000000e+00\n",
            " -0.00000000e+00  2.75662363e-04  9.85338281e-06 -0.00000000e+00\n",
            " -0.00000000e+00 -8.72626950e-04  2.42452990e-04  1.60504527e-03\n",
            " -0.00000000e+00  2.15582912e-03 -0.00000000e+00 -0.00000000e+00\n",
            " -0.00000000e+00 -0.00000000e+00 -0.00000000e+00  2.33581095e-03\n",
            " -0.00000000e+00 -0.00000000e+00 -0.00000000e+00 -0.00000000e+00\n",
            " -0.00000000e+00 -0.00000000e+00 -0.00000000e+00 -0.00000000e+00\n",
            " -0.00000000e+00 -0.00000000e+00 -0.00000000e+00 -0.00000000e+00\n",
            " -0.00000000e+00 -0.00000000e+00 -0.00000000e+00 -5.94178233e-04\n",
            " -0.00000000e+00 -0.00000000e+00 -0.00000000e+00 -0.00000000e+00\n",
            " -0.00000000e+00 -0.00000000e+00  8.22498571e-04  5.92465100e-05\n",
            "  1.79560725e-03  1.55241600e-03 -0.00000000e+00 -0.00000000e+00\n",
            " -0.00000000e+00 -0.00000000e+00 -0.00000000e+00 -0.00000000e+00\n",
            " -0.00000000e+00 -0.00000000e+00 -0.00000000e+00 -0.00000000e+00\n",
            " -0.00000000e+00 -0.00000000e+00 -0.00000000e+00 -0.00000000e+00\n",
            " -0.00000000e+00  1.31191086e-05 -0.00000000e+00 -0.00000000e+00\n",
            " -2.75226645e-03 -0.00000000e+00 -0.00000000e+00 -9.94854301e-05\n",
            " -0.00000000e+00 -0.00000000e+00 -0.00000000e+00 -0.00000000e+00\n",
            " -0.00000000e+00 -0.00000000e+00 -0.00000000e+00 -0.00000000e+00\n",
            " -0.00000000e+00 -0.00000000e+00 -0.00000000e+00 -0.00000000e+00\n",
            " -0.00000000e+00 -0.00000000e+00 -0.00000000e+00 -0.00000000e+00\n",
            " -0.00000000e+00 -0.00000000e+00 -0.00000000e+00 -0.00000000e+00\n",
            " -0.00000000e+00 -0.00000000e+00 -0.00000000e+00 -2.25601129e-03\n",
            " -0.00000000e+00 -0.00000000e+00 -0.00000000e+00 -0.00000000e+00\n",
            " -0.00000000e+00 -0.00000000e+00 -0.00000000e+00 -0.00000000e+00\n",
            " -0.00000000e+00 -0.00000000e+00 -0.00000000e+00 -0.00000000e+00\n",
            " -0.00000000e+00 -0.00000000e+00 -0.00000000e+00 -0.00000000e+00\n",
            " -0.00000000e+00 -0.00000000e+00 -0.00000000e+00 -0.00000000e+00\n",
            " -0.00000000e+00 -0.00000000e+00 -0.00000000e+00 -0.00000000e+00\n",
            " -0.00000000e+00 -0.00000000e+00  1.34629140e-03 -0.00000000e+00\n",
            " -3.98437334e-04 -0.00000000e+00 -0.00000000e+00 -0.00000000e+00\n",
            " -0.00000000e+00 -0.00000000e+00 -0.00000000e+00 -0.00000000e+00\n",
            " -0.00000000e+00 -0.00000000e+00 -0.00000000e+00 -0.00000000e+00\n",
            " -0.00000000e+00 -0.00000000e+00 -0.00000000e+00 -0.00000000e+00\n",
            " -0.00000000e+00 -0.00000000e+00 -0.00000000e+00 -0.00000000e+00\n",
            " -0.00000000e+00 -0.00000000e+00 -0.00000000e+00 -0.00000000e+00\n",
            " -0.00000000e+00 -0.00000000e+00 -0.00000000e+00 -0.00000000e+00\n",
            " -0.00000000e+00 -0.00000000e+00 -0.00000000e+00 -0.00000000e+00\n",
            " -0.00000000e+00 -0.00000000e+00 -0.00000000e+00 -0.00000000e+00\n",
            " -0.00000000e+00 -0.00000000e+00 -0.00000000e+00 -0.00000000e+00\n",
            " -0.00000000e+00 -0.00000000e+00 -0.00000000e+00 -0.00000000e+00\n",
            " -0.00000000e+00 -0.00000000e+00 -0.00000000e+00 -0.00000000e+00\n",
            " -0.00000000e+00 -0.00000000e+00 -0.00000000e+00 -0.00000000e+00\n",
            " -0.00000000e+00 -0.00000000e+00 -0.00000000e+00 -0.00000000e+00\n",
            " -0.00000000e+00 -0.00000000e+00 -0.00000000e+00 -0.00000000e+00\n",
            " -0.00000000e+00 -0.00000000e+00 -0.00000000e+00 -0.00000000e+00\n",
            " -0.00000000e+00 -0.00000000e+00 -0.00000000e+00 -0.00000000e+00\n",
            " -0.00000000e+00 -0.00000000e+00 -0.00000000e+00 -0.00000000e+00\n",
            " -0.00000000e+00 -0.00000000e+00 -0.00000000e+00 -0.00000000e+00\n",
            " -0.00000000e+00 -0.00000000e+00 -0.00000000e+00 -0.00000000e+00\n",
            " -0.00000000e+00 -0.00000000e+00 -0.00000000e+00 -0.00000000e+00\n",
            " -0.00000000e+00 -0.00000000e+00 -0.00000000e+00 -0.00000000e+00\n",
            " -0.00000000e+00 -0.00000000e+00 -0.00000000e+00 -0.00000000e+00\n",
            " -0.00000000e+00 -0.00000000e+00 -0.00000000e+00 -0.00000000e+00\n",
            " -0.00000000e+00 -0.00000000e+00 -0.00000000e+00 -0.00000000e+00]\n",
            "w0=1.2902594606257096\n"
          ]
        }
      ]
    },
    {
      "cell_type": "markdown",
      "source": [
        "Test the our result and print the correction rate:"
      ],
      "metadata": {
        "id": "wSPdGnAwTdLS"
      }
    },
    {
      "cell_type": "code",
      "source": [
        "filtered_data_test = filtered_data_test.reshape((-1, d))\n",
        "predict = filtered_data_test @ answer_w + answer_w0\n",
        "print(\"Number of correct prediction is\",sum(predict*filtered_label_test > 0),\"out of\",filtered_data_test.shape[0])\n",
        "percent = (sum(predict*filtered_label_test > 0) / filtered_data_test.shape[0])*100\n",
        "print(\"The rate of correct prediction is:\",percent)\n",
        "print(f\"wft = {filtered_data_test @ answer_w}\")"
      ],
      "metadata": {
        "id": "XBXxwEbTz7fn",
        "colab": {
          "base_uri": "https://localhost:8080/"
        },
        "outputId": "ef8626fc-9aff-4bbc-fd53-154c0c30d84f"
      },
      "execution_count": null,
      "outputs": [
        {
          "output_type": "stream",
          "name": "stdout",
          "text": [
            "Number of correct prediction is 2113 out of 2115\n",
            "The rate of correct prediction is: 99.90543735224587\n",
            "wft = [ 1.05969726 -6.56457371  1.29734361 ...  2.46204438 -6.35172284\n",
            "  1.99549751]\n"
          ]
        }
      ]
    }
  ]
}
